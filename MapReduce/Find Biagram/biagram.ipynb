{
 "cells": [
  {
   "cell_type": "code",
   "execution_count": 3,
   "id": "e1f4f48a",
   "metadata": {},
   "outputs": [
    {
     "name": "stdout",
     "output_type": "stream",
     "text": [
      "a,man: 1\n",
      "man,a: 1\n",
      "a,plan: 2\n",
      "plan,a: 1\n",
      "a,canal: 3\n",
      "canal,panama: 1\n",
      "panama,there: 1\n",
      "there,was: 1\n",
      "was,a: 1\n",
      "plan,to: 1\n",
      "to,build: 1\n",
      "build,a: 1\n",
      "canal,in: 1\n",
      "in,panama: 2\n",
      "panama,in: 1\n",
      "panama,a: 1\n",
      "canal,was: 1\n",
      "was,built: 1\n"
     ]
    }
   ],
   "source": [
    "import re\n",
    "from collections import defaultdict\n",
    "\n",
    "def find_word_bigrams(text):\n",
    "    # Split the input text into words using regex\n",
    "    words = re.findall(r\"[\\w']+\", text.lower())\n",
    "    \n",
    "    # Find word bigrams\n",
    "    return [(words[i], words[i + 1]) for i in range(len(words) - 1)]\n",
    "\n",
    "def count_bigrams(bigrams_list):\n",
    "    # Initialize a dictionary to store the bigram counts\n",
    "    bigram_counts = defaultdict(int)\n",
    "    \n",
    "    # Count the occurrences of each bigram\n",
    "    for bigram in bigrams_list:\n",
    "        bigram_counts[bigram] += 1\n",
    "    \n",
    "    return bigram_counts\n",
    "\n",
    "if __name__ == \"__main__\":\n",
    "    # Example input text\n",
    "    input_text = \"a man a plan a canal panama there was a plan to build a canal in panama in panama a canal was built\"\n",
    "    \n",
    "    # Find word bigrams\n",
    "    bigrams = find_word_bigrams(input_text)\n",
    "    \n",
    "    # Count the bigram occurrences\n",
    "    bigram_counts = count_bigrams(bigrams)\n",
    "    \n",
    "    # Print the results\n",
    "    for bigram, count in bigram_counts.items():\n",
    "        print(f\"{bigram[0]},{bigram[1]}: {count}\")"
   ]
  },
  {
   "cell_type": "code",
   "execution_count": null,
   "id": "c46a2bf7",
   "metadata": {},
   "outputs": [],
   "source": []
  }
 ],
 "metadata": {
  "kernelspec": {
   "display_name": "Python 3 (ipykernel)",
   "language": "python",
   "name": "python3"
  },
  "language_info": {
   "codemirror_mode": {
    "name": "ipython",
    "version": 3
   },
   "file_extension": ".py",
   "mimetype": "text/x-python",
   "name": "python",
   "nbconvert_exporter": "python",
   "pygments_lexer": "ipython3",
   "version": "3.9.13"
  }
 },
 "nbformat": 4,
 "nbformat_minor": 5
}
