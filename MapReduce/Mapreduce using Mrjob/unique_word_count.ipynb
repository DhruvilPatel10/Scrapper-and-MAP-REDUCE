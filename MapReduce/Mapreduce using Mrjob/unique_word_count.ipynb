{
 "cells": [
  {
   "cell_type": "code",
   "execution_count": 1,
   "id": "f58a5fd3",
   "metadata": {},
   "outputs": [
    {
     "name": "stdout",
     "output_type": "stream",
     "text": [
      "Requirement already satisfied: mrjob in c:\\users\\aminv\\anaconda3\\lib\\site-packages (0.7.4)\n",
      "Requirement already satisfied: PyYAML>=3.10 in c:\\users\\aminv\\anaconda3\\lib\\site-packages (from mrjob) (6.0)\n",
      "Note: you may need to restart the kernel to use updated packages.\n"
     ]
    }
   ],
   "source": [
    "pip install mrjob"
   ]
  },
  {
   "cell_type": "code",
   "execution_count": 16,
   "id": "1888843a",
   "metadata": {},
   "outputs": [
    {
     "name": "stderr",
     "output_type": "stream",
     "text": [
      "usage: ipykernel_launcher.py [options] [input files]\n",
      "ipykernel_launcher.py: error: unrecognized arguments: -f\n"
     ]
    },
    {
     "ename": "SystemExit",
     "evalue": "2",
     "output_type": "error",
     "traceback": [
      "An exception has occurred, use %tb to see the full traceback.\n",
      "\u001b[1;31mSystemExit\u001b[0m\u001b[1;31m:\u001b[0m 2\n"
     ]
    }
   ],
   "source": [
    "from mrjob.job import MRJob\n",
    "\n",
    "class MRWordCount(MRJob):\n",
    "\n",
    "    def mapper(self, _, line):\n",
    "        # Split the line into words\n",
    "        words = line.strip().split()\n",
    "        \n",
    "        for word in words:\n",
    "            # Normalize the word by converting it to lowercase\n",
    "            word = word.lower()\n",
    "            # Remove punctuation (if any) from the word\n",
    "            word = ''.join(e for e in word if e.isalnum())\n",
    "            if word:\n",
    "                # Emit word and count of 1\n",
    "                yield (word, 1)\n",
    "\n",
    "    def reducer(self, word, counts):\n",
    "        # Sum the counts for each word\n",
    "        yield (word, sum(counts))\n",
    "\n",
    "if __name__ == '__main__':\n",
    "    MRWordCount.run()\n",
    "\n"
   ]
  },
  {
   "cell_type": "code",
   "execution_count": 17,
   "id": "e7dfff6c",
   "metadata": {
    "scrolled": false
   },
   "outputs": [
    {
     "name": "stderr",
     "output_type": "stream",
     "text": [
      "No configs specified for inline runner\n"
     ]
    }
   ],
   "source": [
    "from word_count import MRWordCount\n",
    "#directory to save the MapReduce output in file\n",
    "output_path = 'C:\\\\Users\\\\aminv\\\\Untitled Folder 1\\\\Unique_Out_put.txt'\n",
    "\n",
    "def run_mrjob(input_path, output_path):\n",
    "    mr_job = MRWordCount(args=[input_path, \"--output-dir\", output_path, \"--no-output\"])\n",
    "    with mr_job.make_runner() as runner:\n",
    "        runner.run()\n",
    "        return [line.strip() for line in runner.cat_output()]\n",
    "\n",
    "output_lines = run_mrjob('C:\\\\Users\\\\aminv\\\\Untitled Folder 1\\\\input.txt', 'Output.txt')\n",
    "\n",
    "# Write the output to the file\n",
    "with open(output_path, 'w') as output_file:\n",
    "    for line in output_lines:\n",
    "        output_file.write(line.decode('utf-8') + '\\n')"
   ]
  },
  {
   "cell_type": "code",
   "execution_count": null,
   "id": "640f0ae0",
   "metadata": {},
   "outputs": [],
   "source": []
  },
  {
   "cell_type": "code",
   "execution_count": null,
   "id": "79ec405f",
   "metadata": {},
   "outputs": [],
   "source": []
  },
  {
   "cell_type": "code",
   "execution_count": null,
   "id": "53c395e2",
   "metadata": {},
   "outputs": [],
   "source": []
  },
  {
   "cell_type": "code",
   "execution_count": null,
   "id": "c1477405",
   "metadata": {},
   "outputs": [],
   "source": []
  }
 ],
 "metadata": {
  "kernelspec": {
   "display_name": "Python 3 (ipykernel)",
   "language": "python",
   "name": "python3"
  },
  "language_info": {
   "codemirror_mode": {
    "name": "ipython",
    "version": 3
   },
   "file_extension": ".py",
   "mimetype": "text/x-python",
   "name": "python",
   "nbconvert_exporter": "python",
   "pygments_lexer": "ipython3",
   "version": "3.9.13"
  }
 },
 "nbformat": 4,
 "nbformat_minor": 5
}
