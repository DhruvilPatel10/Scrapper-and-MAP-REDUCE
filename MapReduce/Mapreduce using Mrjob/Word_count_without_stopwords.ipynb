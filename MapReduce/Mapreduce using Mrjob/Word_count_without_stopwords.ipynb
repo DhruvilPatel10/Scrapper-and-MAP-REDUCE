{
 "cells": [
  {
   "cell_type": "code",
   "execution_count": 14,
   "id": "e1ed90d6",
   "metadata": {},
   "outputs": [],
   "source": [
    "import nltk\n",
    "import string\n",
    "from nltk.corpus import stopwords\n",
    "\n",
    "stop_words = set(word.lower() for word in stopwords.words('english'))\n",
    "\n",
    "# Open a new file for writing the text without stopwords\n",
    "with open('input_wo_sw.txt', 'w') as output_file:\n",
    "    # Read the input_2.txt file, remove stopwords, and write to the new file\n",
    "    with open('input_2.txt', 'r') as input_file:\n",
    "        for line in input_file:\n",
    "            words = line.strip().split()\n",
    "            filtered_words = [word for word in words if word.lower().strip(string.punctuation) not in stop_words]\n",
    "            filtered_line = ' '.join(filtered_words)\n",
    "            output_file.write(filtered_line + '\\n')\n",
    "\n"
   ]
  },
  {
   "cell_type": "code",
   "execution_count": 15,
   "id": "7f7fc82f",
   "metadata": {},
   "outputs": [
    {
     "name": "stderr",
     "output_type": "stream",
     "text": [
      "usage: ipykernel_launcher.py [options] [input files]\n",
      "ipykernel_launcher.py: error: unrecognized arguments: -f\n"
     ]
    },
    {
     "ename": "SystemExit",
     "evalue": "2",
     "output_type": "error",
     "traceback": [
      "An exception has occurred, use %tb to see the full traceback.\n",
      "\u001b[1;31mSystemExit\u001b[0m\u001b[1;31m:\u001b[0m 2\n"
     ]
    }
   ],
   "source": [
    "from mrjob.job import MRJob\n",
    "\n",
    "class MRWordCount(MRJob):\n",
    "\n",
    "    def mapper(self, _, line):\n",
    "        # Split the line into words\n",
    "        words = line.strip().split()\n",
    "        \n",
    "        for word in words:\n",
    "            # Normalize the word by converting it to lowercase\n",
    "            word = word.lower()\n",
    "            # Remove punctuation (if any) from the word\n",
    "            word = ''.join(e for e in word if e.isalnum())\n",
    "            if word:\n",
    "                # Emit word and count of 1\n",
    "                yield (word, 1)\n",
    "\n",
    "    def reducer(self, word, counts):\n",
    "        # Sum the counts for each word\n",
    "        yield (word, sum(counts))\n",
    "\n",
    "if __name__ == '__main__':\n",
    "    MRWordCount.run()"
   ]
  },
  {
   "cell_type": "code",
   "execution_count": 20,
   "id": "a9f02902",
   "metadata": {},
   "outputs": [
    {
     "name": "stderr",
     "output_type": "stream",
     "text": [
      "No configs specified for inline runner\n"
     ]
    }
   ],
   "source": [
    "import mrjob\n",
    "from word_count import MRWordCount\n",
    "\n",
    "output_path = 'C:\\\\Users\\\\aminv\\\\Untitled Folder 1\\\\Without_stopwords_Out_put.txt'#directory for output file \n",
    "\n",
    "def run_mrjob(input_path, output_path):\n",
    "    mr_job = MRWordCount(args=[input_path, \"--output-dir\", output_path, \"--no-output\"])\n",
    "    with mr_job.make_runner() as runner:\n",
    "        runner.run()\n",
    "        return [line.strip() for line in runner.cat_output()]\n",
    "\n",
    "output_lines = run_mrjob('C:\\\\Users\\\\aminv\\\\Untitled Folder 1\\\\input_wo_sw.txt', 'File.txt')\n",
    "#writing output to the output file\n",
    "with open(output_path, 'w') as output_file:\n",
    "    for line in output_lines:\n",
    "        output_file.write(line.decode('utf-8') + '\\n')\n"
   ]
  },
  {
   "cell_type": "code",
   "execution_count": null,
   "id": "3418ebea",
   "metadata": {},
   "outputs": [],
   "source": []
  },
  {
   "cell_type": "code",
   "execution_count": null,
   "id": "5af32bea",
   "metadata": {},
   "outputs": [],
   "source": []
  }
 ],
 "metadata": {
  "kernelspec": {
   "display_name": "Python 3 (ipykernel)",
   "language": "python",
   "name": "python3"
  },
  "language_info": {
   "codemirror_mode": {
    "name": "ipython",
    "version": 3
   },
   "file_extension": ".py",
   "mimetype": "text/x-python",
   "name": "python",
   "nbconvert_exporter": "python",
   "pygments_lexer": "ipython3",
   "version": "3.9.13"
  }
 },
 "nbformat": 4,
 "nbformat_minor": 5
}
